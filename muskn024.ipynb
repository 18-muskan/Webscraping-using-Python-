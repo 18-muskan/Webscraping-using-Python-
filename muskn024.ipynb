{
 "cells": [
  {
   "cell_type": "code",
   "execution_count": 1,
   "id": "ffff7782-b927-4c0f-abc5-7ba2d103a6b6",
   "metadata": {},
   "outputs": [
    {
     "name": "stdout",
     "output_type": "stream",
     "text": [
      "Scraped table rows saved to hn_table_rows.html\n"
     ]
    }
   ],
   "source": [
    "from bs4 import BeautifulSoup\n",
    "import requests\n",
    "\n",
    "# Specify the user-agent header to mimic a browser request\n",
    "headers = {\n",
    "    'User-Agent': 'Mozilla/5.0 (Macintosh; Intel Mac OS X 10_11_2) AppleWebKit/601.3.9 (KHTML, like Gecko) Version/9.0.2 Safari/601.3.9'\n",
    "}\n",
    "\n",
    "# URL of the webpage to scrape\n",
    "url = 'https://news.ycombinator.com/'\n",
    "\n",
    "# Send a GET request to the URL with headers\n",
    "response = requests.get(url, headers=headers)\n",
    "\n",
    "# File path for saving scraped data\n",
    "output_file = 'hn_table_rows.html'\n",
    "\n",
    "# Check if the request was successful (status code 200)\n",
    "if response.status_code == 200:\n",
    "    # Parse the content using BeautifulSoup\n",
    "    soup = BeautifulSoup(response.content, 'html.parser')  # or 'lxml' if lxml parser is installed\n",
    "\n",
    "    # Open a file for writing the table rows\n",
    "    with open(output_file, 'w', encoding='utf-8') as file:\n",
    "        # Find and write all 'tr' elements (table rows)\n",
    "        for item in soup.find_all('tr'):\n",
    "            try:\n",
    "                file.write(str(item) + '\\n')  # Write HTML string of the table row to file\n",
    "            except Exception as e:\n",
    "                print(f\"Error: {e}\")\n",
    "else:\n",
    "    print(f\"Failed to retrieve page: {response.status_code}\")\n",
    "\n",
    "print(f\"Scraped table rows saved to {output_file}\")"
   ]
  },
  {
   "cell_type": "code",
   "execution_count": null,
   "id": "c492158b-5937-457f-a972-3d6095dc6ec8",
   "metadata": {},
   "outputs": [],
   "source": []
  }
 ],
 "metadata": {
  "kernelspec": {
   "display_name": "Python 3 (ipykernel)",
   "language": "python",
   "name": "python3"
  },
  "language_info": {
   "codemirror_mode": {
    "name": "ipython",
    "version": 3
   },
   "file_extension": ".py",
   "mimetype": "text/x-python",
   "name": "python",
   "nbconvert_exporter": "python",
   "pygments_lexer": "ipython3",
   "version": "3.11.7"
  }
 },
 "nbformat": 4,
 "nbformat_minor": 5
}
